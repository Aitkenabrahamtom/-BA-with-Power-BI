{
  "nbformat": 4,
  "nbformat_minor": 0,
  "metadata": {
    "colab": {
      "provenance": [],
      "authorship_tag": "ABX9TyPTpTVMHM4NhSyX+b1Qzpog",
      "include_colab_link": true
    },
    "kernelspec": {
      "name": "python3",
      "display_name": "Python 3"
    },
    "language_info": {
      "name": "python"
    }
  },
  "cells": [
    {
      "cell_type": "markdown",
      "metadata": {
        "id": "view-in-github",
        "colab_type": "text"
      },
      "source": [
        "<a href=\"https://colab.research.google.com/github/Aitkenabrahamtom/-BA-with-Power-BI/blob/main/Untitled.ipynb\" target=\"_parent\"><img src=\"https://colab.research.google.com/assets/colab-badge.svg\" alt=\"Open In Colab\"/></a>"
      ]
    },
    {
      "cell_type": "code",
      "execution_count": 1,
      "metadata": {
        "id": "7LN29zyrQ8xR"
      },
      "outputs": [],
      "source": [
        ";def Aitken():\n",
        "  print(\"india is my country\")"
      ]
    },
    {
      "cell_type": "code",
      "source": [
        "Aitken()"
      ],
      "metadata": {
        "colab": {
          "base_uri": "https://localhost:8080/"
        },
        "id": "-D--kDEnRoZQ",
        "outputId": "88ca2553-313c-45a2-b977-45f360d91469"
      },
      "execution_count": 2,
      "outputs": [
        {
          "output_type": "stream",
          "name": "stdout",
          "text": [
            "india is my country\n"
          ]
        }
      ]
    },
    {
      "cell_type": "code",
      "source": [
        "def Aitken():\n",
        "  print(\"your role number is\",10)"
      ],
      "metadata": {
        "id": "jqPrBUJQSCoC"
      },
      "execution_count": 3,
      "outputs": []
    },
    {
      "cell_type": "code",
      "source": [
        " Aitken()"
      ],
      "metadata": {
        "colab": {
          "base_uri": "https://localhost:8080/"
        },
        "id": "dsP3KhOeSRWq",
        "outputId": "71aad500-b820-4c61-8d2b-e63d3e3a1b55"
      },
      "execution_count": 5,
      "outputs": [
        {
          "output_type": "stream",
          "name": "stdout",
          "text": [
            "your role number is 10\n"
          ]
        }
      ]
    },
    {
      "cell_type": "code",
      "source": [
        "def paaari(x):\n",
        "  print(\"name:\",c)\n",
        "  print(\"your  roll no is\",x)\n",
        "  print(\"place:\",y)\n",
        "  print('email:',z)"
      ],
      "metadata": {
        "id": "6NvJ14XwSTnA"
      },
      "execution_count": 7,
      "outputs": []
    },
    {
      "cell_type": "code",
      "source": [
        "c=input(\"enter the name\")\n",
        "x=int(input(\"enter the roll number\"))\n",
        "y=input(\"enter the place\")\n",
        "z=input(\"enter the email id\")\n"
      ],
      "metadata": {
        "colab": {
          "base_uri": "https://localhost:8080/"
        },
        "id": "Mrl3sLOQUbZT",
        "outputId": "61f1deb2-8475-48b8-a860-c4cb38a32c8c"
      },
      "execution_count": 11,
      "outputs": [
        {
          "name": "stdout",
          "output_type": "stream",
          "text": [
            "enter the namehgdjg\n",
            "enter the roll number5\n",
            "enter the placeydty\n",
            "enter the email idparvathyanish@gmail.com\n"
          ]
        }
      ]
    },
    {
      "cell_type": "code",
      "source": [
        "def first(y):\n",
        "  print(\"first name\",y[0])\n"
      ],
      "metadata": {
        "id": "d9Vg7N6DW8xh"
      },
      "execution_count": 22,
      "outputs": []
    },
    {
      "cell_type": "code",
      "source": [
        "adef second(y):\n",
        "  print(\"second name\",y[1])"
      ],
      "metadata": {
        "id": "Tu_nRWdqX8hy"
      },
      "execution_count": 18,
      "outputs": []
    },
    {
      "cell_type": "code",
      "source": [
        "x=input('enter the name')\n",
        "y=x.split(\" \")\n",
        "first(y)\n",
        "second(y)\n"
      ],
      "metadata": {
        "colab": {
          "base_uri": "https://localhost:8080/"
        },
        "id": "g9sWfEjnYPW7",
        "outputId": "522001da-95cd-455c-b3f4-84f0f207d470"
      },
      "execution_count": 23,
      "outputs": [
        {
          "output_type": "stream",
          "name": "stdout",
          "text": [
            "enter the nameaitken tom\n",
            "first name aitken\n",
            "second name tom\n"
          ]
        }
      ]
    },
    {
      "cell_type": "code",
      "source": [],
      "metadata": {
        "id": "wCLOt_mkZcAK"
      },
      "execution_count": null,
      "outputs": []
    }
  ]
}