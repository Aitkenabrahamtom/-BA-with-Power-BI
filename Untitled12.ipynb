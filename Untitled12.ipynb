{
  "nbformat": 4,
  "nbformat_minor": 0,
  "metadata": {
    "colab": {
      "provenance": [],
      "authorship_tag": "ABX9TyMjM7rxeTpZ4H+GPaVxvluZ",
      "include_colab_link": true
    },
    "kernelspec": {
      "name": "python3",
      "display_name": "Python 3"
    },
    "language_info": {
      "name": "python"
    }
  },
  "cells": [
    {
      "cell_type": "markdown",
      "metadata": {
        "id": "view-in-github",
        "colab_type": "text"
      },
      "source": [
        "<a href=\"https://colab.research.google.com/github/Aitkenabrahamtom/-BA-with-Power-BI/blob/main/Untitled12.ipynb\" target=\"_parent\"><img src=\"https://colab.research.google.com/assets/colab-badge.svg\" alt=\"Open In Colab\"/></a>"
      ]
    },
    {
      "cell_type": "code",
      "execution_count": 2,
      "metadata": {
        "colab": {
          "base_uri": "https://localhost:8080/"
        },
        "id": "ayttAr7P0ZFJ",
        "outputId": "52eefd90-2b10-4b22-e5c7-f7d7489a02ab"
      },
      "outputs": [
        {
          "output_type": "stream",
          "name": "stdout",
          "text": [
            "\"kathy\" joseph alexander\n"
          ]
        }
      ],
      "source": [
        "print(\"\\\"kathy\\\" joseph alexander\")"
      ]
    },
    {
      "cell_type": "code",
      "source": [
        "print(\"he \\n Aitken\")"
      ],
      "metadata": {
        "colab": {
          "base_uri": "https://localhost:8080/"
        },
        "id": "dFReEcH_0lDa",
        "outputId": "da5505c5-1a40-4134-b4e2-99fe71620942"
      },
      "execution_count": 4,
      "outputs": [
        {
          "output_type": "stream",
          "name": "stdout",
          "text": [
            "he \n",
            " Aitken\n"
          ]
        }
      ]
    },
    {
      "cell_type": "code",
      "source": [
        "print(\"Aitken \\n Abraham\")"
      ],
      "metadata": {
        "colab": {
          "base_uri": "https://localhost:8080/"
        },
        "id": "vTeANTTD1ZXS",
        "outputId": "9c062820-e241-4c91-aecd-8e9b89910895"
      },
      "execution_count": 5,
      "outputs": [
        {
          "output_type": "stream",
          "name": "stdout",
          "text": [
            "Aitken \n",
            " Abraham\n"
          ]
        }
      ]
    },
    {
      "cell_type": "code",
      "source": [
        "x = [\"john\" , \"mary\" , \"david\" , \"adam\" ]\n",
        "x.insert(2,\"james\")\n",
        "print(x)"
      ],
      "metadata": {
        "colab": {
          "base_uri": "https://localhost:8080/"
        },
        "id": "IM_QmQN81rOJ",
        "outputId": "7f80223c-4a0d-4431-9345-8619f2702213"
      },
      "execution_count": 7,
      "outputs": [
        {
          "output_type": "stream",
          "name": "stdout",
          "text": [
            "['john', 'mary', 'james', 'david', 'adam']\n"
          ]
        }
      ]
    },
    {
      "cell_type": "code",
      "source": [
        "x = [\"simpaul\" , \"satra\" , \"hysham\" , \"noel\" ]\n",
        "x.insert(2,\"Aitken\")\n",
        "print(x)"
      ],
      "metadata": {
        "colab": {
          "base_uri": "https://localhost:8080/"
        },
        "id": "nvN8V0NE29Dk",
        "outputId": "337fd2c1-48ee-48dc-995f-5c3d832272bd"
      },
      "execution_count": 8,
      "outputs": [
        {
          "output_type": "stream",
          "name": "stdout",
          "text": [
            "['simpaul', 'satra', 'Aitken', 'hysham', 'noel']\n"
          ]
        }
      ]
    },
    {
      "cell_type": "code",
      "source": [
        "x = [\"simpaul\" , \"santra\" , \"hysham\" , \"noel\" ]\n",
        "n=input(\"enter a name\")\n",
        "y=int(input(\"enter index no\"))\n",
        "x.insert(y,n)\n",
        "print(x)"
      ],
      "metadata": {
        "colab": {
          "base_uri": "https://localhost:8080/"
        },
        "id": "c5qxPO453aLi",
        "outputId": "a19f85ef-4038-4d91-f385-891572d2618c"
      },
      "execution_count": 12,
      "outputs": [
        {
          "output_type": "stream",
          "name": "stdout",
          "text": [
            "enter a nameAitken\n",
            "enter index no1\n",
            "['simpaul', 'Aitken', 'santra', 'hysham', 'noel']\n"
          ]
        }
      ]
    },
    {
      "cell_type": "code",
      "source": [
        "def tia():\n",
        "  y=int(input(\"enter index\"))\n",
        "  n=input(\"enter a name\")\n",
        "  x.insert(y,n)\n"
      ],
      "metadata": {
        "id": "VqTZghnk5Axk"
      },
      "execution_count": 14,
      "outputs": []
    },
    {
      "cell_type": "code",
      "source": [
        "tia()"
      ],
      "metadata": {
        "colab": {
          "base_uri": "https://localhost:8080/"
        },
        "id": "qc0U6U1_-wFk",
        "outputId": "0a6c89f4-c242-46f6-a657-3bb51f272cbb"
      },
      "execution_count": 16,
      "outputs": [
        {
          "name": "stdout",
          "output_type": "stream",
          "text": [
            "enter index2\n",
            "enter a namehysham\n"
          ]
        }
      ]
    },
    {
      "cell_type": "code",
      "source": [
        "x"
      ],
      "metadata": {
        "colab": {
          "base_uri": "https://localhost:8080/"
        },
        "id": "J1oU-EjB_gu9",
        "outputId": "502311b6-4419-4309-8279-83fb2a833717"
      },
      "execution_count": 17,
      "outputs": [
        {
          "output_type": "execute_result",
          "data": {
            "text/plain": [
              "['simpaul', 'Aitken', 'hysham', 'hysham', 'santra', 'hysham', 'noel']"
            ]
          },
          "metadata": {},
          "execution_count": 17
        }
      ]
    },
    {
      "cell_type": "code",
      "source": [
        "tia()"
      ],
      "metadata": {
        "colab": {
          "base_uri": "https://localhost:8080/"
        },
        "id": "ZOQ5Iu--BAFc",
        "outputId": "fb106e33-c583-4a66-d3d3-f36a215d44fb"
      },
      "execution_count": 18,
      "outputs": [
        {
          "name": "stdout",
          "output_type": "stream",
          "text": [
            "enter index4\n",
            "enter a namehysham\n"
          ]
        }
      ]
    },
    {
      "cell_type": "code",
      "source": [
        "x"
      ],
      "metadata": {
        "colab": {
          "base_uri": "https://localhost:8080/"
        },
        "id": "8xjUAr2ZBEOc",
        "outputId": "3b82a353-4280-4e58-a3a4-42e119cd471f"
      },
      "execution_count": 19,
      "outputs": [
        {
          "output_type": "execute_result",
          "data": {
            "text/plain": [
              "['simpaul', 'Aitken', 'hysham', 'hysham', 'hysham', 'santra', 'hysham', 'noel']"
            ]
          },
          "metadata": {},
          "execution_count": 19
        }
      ]
    },
    {
      "cell_type": "code",
      "source": [
        "def Aitken():\n",
        "  x=int(input(\"enter number\"))\n",
        "  y=int(input(\"enter number\"))\n",
        "  print(x-y)\n",
        "  print(x/y)\n",
        "  print(x*y)"
      ],
      "metadata": {
        "id": "7nzpUBEnBWsk"
      },
      "execution_count": 20,
      "outputs": []
    },
    {
      "cell_type": "code",
      "source": [
        "Aitken()"
      ],
      "metadata": {
        "colab": {
          "base_uri": "https://localhost:8080/"
        },
        "id": "Go0OBou9C5S4",
        "outputId": "7a6bfe80-2141-42d7-8b39-7698b79e40d0"
      },
      "execution_count": 21,
      "outputs": [
        {
          "output_type": "stream",
          "name": "stdout",
          "text": [
            "enter number4\n",
            "enter number69\n",
            "-65\n",
            "0.057971014492753624\n",
            "276\n"
          ]
        }
      ]
    },
    {
      "cell_type": "code",
      "source": [
        "def maths(a,b):\n",
        "  print(a+b)\n",
        "  "
      ],
      "metadata": {
        "id": "UdbcAy-JDCF5"
      },
      "execution_count": 22,
      "outputs": []
    },
    {
      "cell_type": "code",
      "source": [
        "x=int(input(\"enter first value\"))\n",
        "y=int(input(\"enter second value\"))\n",
        "maths(x,y)"
      ],
      "metadata": {
        "colab": {
          "base_uri": "https://localhost:8080/"
        },
        "id": "uGbl53nUEr6W",
        "outputId": "d715de57-5918-4e29-8eed-5959961de7a1"
      },
      "execution_count": 23,
      "outputs": [
        {
          "output_type": "stream",
          "name": "stdout",
          "text": [
            "enter first value6\n",
            "enter second value7\n",
            "13\n"
          ]
        }
      ]
    },
    {
      "cell_type": "code",
      "source": [
        "def maths(a,b):\n",
        "  print(a-b)"
      ],
      "metadata": {
        "id": "6jDzchSPFOVQ"
      },
      "execution_count": 26,
      "outputs": []
    },
    {
      "cell_type": "code",
      "source": [
        "x=int(input(\"enter first value\"))\n",
        "y=int(input(\"enter second value\"))\n",
        "maths(x,y)"
      ],
      "metadata": {
        "colab": {
          "base_uri": "https://localhost:8080/"
        },
        "id": "tC3QwOMhFYVp",
        "outputId": "b9905c94-e596-4ed7-ee05-0e043e1f5958"
      },
      "execution_count": 28,
      "outputs": [
        {
          "output_type": "stream",
          "name": "stdout",
          "text": [
            "enter first value7\n",
            "enter second value6\n",
            "1\n"
          ]
        }
      ]
    },
    {
      "cell_type": "code",
      "source": [
        "def maths(a,b):\n",
        "  print(a/b)\n"
      ],
      "metadata": {
        "id": "9uLUsgeBFc6Z"
      },
      "execution_count": 33,
      "outputs": []
    },
    {
      "cell_type": "code",
      "source": [
        "x=int(input(\"enter first value\"))\n",
        "y=int(input(\"enter second value\"))\n",
        "maths(x,y)"
      ],
      "metadata": {
        "colab": {
          "base_uri": "https://localhost:8080/"
        },
        "id": "qfXBXcQmFsMm",
        "outputId": "affc1278-a423-4655-9abb-e657bf53ed1d"
      },
      "execution_count": 32,
      "outputs": [
        {
          "output_type": "stream",
          "name": "stdout",
          "text": [
            "enter first value8\n",
            "enter second value4\n",
            "2.0\n"
          ]
        }
      ]
    },
    {
      "cell_type": "code",
      "source": [
        "def maths(a,b):\n",
        "  print(a*b)\n"
      ],
      "metadata": {
        "id": "0nxqGQwmGHEb"
      },
      "execution_count": 34,
      "outputs": []
    },
    {
      "cell_type": "code",
      "source": [
        "x=int(input(\"enter first value\"))\n",
        "y=int(input(\"enter second value\"))\n",
        "maths(x,y)"
      ],
      "metadata": {
        "colab": {
          "base_uri": "https://localhost:8080/"
        },
        "id": "fgRSus1aGSu9",
        "outputId": "a2299f7e-6caa-4635-96cc-7dfed103433a"
      },
      "execution_count": 35,
      "outputs": [
        {
          "output_type": "stream",
          "name": "stdout",
          "text": [
            "enter first value4\n",
            "enter second value5\n",
            "20\n"
          ]
        }
      ]
    },
    {
      "cell_type": "code",
      "source": [],
      "metadata": {
        "id": "XpEq9i0aGVP4"
      },
      "execution_count": null,
      "outputs": []
    }
  ]
}