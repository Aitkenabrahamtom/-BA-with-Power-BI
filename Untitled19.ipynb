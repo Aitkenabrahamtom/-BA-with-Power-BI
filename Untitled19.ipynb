{
  "nbformat": 4,
  "nbformat_minor": 0,
  "metadata": {
    "colab": {
      "provenance": [],
      "authorship_tag": "ABX9TyNFyQs2tMNnuZYpxdfyCJ/3",
      "include_colab_link": true
    },
    "kernelspec": {
      "name": "python3",
      "display_name": "Python 3"
    },
    "language_info": {
      "name": "python"
    }
  },
  "cells": [
    {
      "cell_type": "markdown",
      "metadata": {
        "id": "view-in-github",
        "colab_type": "text"
      },
      "source": [
        "<a href=\"https://colab.research.google.com/github/Aitkenabrahamtom/-BA-with-Power-BI/blob/main/Untitled19.ipynb\" target=\"_parent\"><img src=\"https://colab.research.google.com/assets/colab-badge.svg\" alt=\"Open In Colab\"/></a>"
      ]
    },
    {
      "cell_type": "code",
      "execution_count": 10,
      "metadata": {
        "id": "tvuK6b1oE5z2"
      },
      "outputs": [],
      "source": [
        "\n",
        "import numpy as np\n",
        "import matplotlib.pyplot as plt\n",
        "import pandas as pd"
      ]
    },
    {
      "cell_type": "code",
      "source": [
        "dataset = pd.read_csv('NKE.csv')"
      ],
      "metadata": {
        "id": "1MRb3slsG3YH"
      },
      "execution_count": 11,
      "outputs": []
    },
    {
      "cell_type": "code",
      "source": [
        "\n",
        "x = dataset.iloc[:, :-1].values"
      ],
      "metadata": {
        "id": "xHVV1Eu1G9Hn"
      },
      "execution_count": 12,
      "outputs": []
    },
    {
      "cell_type": "code",
      "source": [
        "x"
      ],
      "metadata": {
        "colab": {
          "base_uri": "https://localhost:8080/"
        },
        "id": "oie4I4vMG_4j",
        "outputId": "532942d4-d253-40b1-dd25-dba871953353"
      },
      "execution_count": 13,
      "outputs": [
        {
          "output_type": "execute_result",
          "data": {
            "text/plain": [
              "array([[  1.      , 137.059998],\n",
              "       [  2.      , 136.720001],\n",
              "       [  3.      , 132.979996],\n",
              "       [  4.      , 136.740005],\n",
              "       [  5.      , 132.509995],\n",
              "       [  6.      , 131.      ],\n",
              "       [  7.      , 125.239998],\n",
              "       [  8.      , 127.379997],\n",
              "       [  9.      , 124.019997],\n",
              "       [ 10.      , 127.010002],\n",
              "       [ 11.      , 121.529999],\n",
              "       [ 12.      , 119.839996],\n",
              "       [ 13.      , 122.849998],\n",
              "       [ 14.      , 124.940002],\n",
              "       [ 15.      , 126.849998],\n",
              "       [ 16.      , 129.720001],\n",
              "       [ 17.      , 137.279999],\n",
              "       [ 18.      , 132.639999],\n",
              "       [ 19.      , 133.75    ],\n",
              "       [ 20.      , 133.050003],\n",
              "       [ 21.      , 133.759995],\n",
              "       [ 22.      , 137.850006],\n",
              "       [ 23.      , 138.979996],\n",
              "       [ 24.      , 137.830002],\n",
              "       [ 25.      , 134.449997],\n",
              "       [ 26.      , 133.050003],\n",
              "       [ 27.      , 134.039993],\n",
              "       [ 28.      , 130.050003],\n",
              "       [ 29.      , 127.43    ],\n",
              "       [ 30.      , 129.440002],\n",
              "       [ 31.      , 125.099998],\n",
              "       [ 32.      , 125.199997],\n",
              "       [ 33.      , 125.040001],\n",
              "       [ 34.      , 129.080002],\n",
              "       [ 35.      , 132.      ],\n",
              "       [ 36.      , 133.089996],\n",
              "       [ 37.      , 137.960007],\n",
              "       [ 38.      , 138.550003],\n",
              "       [ 39.      , 134.330002],\n",
              "       [ 40.      , 127.800003],\n",
              "       [ 41.      , 126.949997],\n",
              "       [ 42.      , 121.089996],\n",
              "       [ 43.      , 123.169998],\n",
              "       [ 44.      , 126.220001],\n",
              "       [ 45.      , 124.43    ],\n",
              "       [ 46.      , 125.019997],\n",
              "       [ 47.      , 122.540001],\n",
              "       [ 48.      , 124.110001],\n",
              "       [ 49.      , 113.739998],\n",
              "       [ 50.      , 112.970001],\n",
              "       [ 51.      , 113.029999],\n",
              "       [ 52.      , 110.699997],\n",
              "       [ 53.      , 105.18    ],\n",
              "       [ 54.      , 110.260002],\n",
              "       [ 55.      , 112.980003],\n",
              "       [ 56.      , 115.5     ],\n",
              "       [ 57.      , 112.5     ],\n",
              "       [ 58.      , 108.949997],\n",
              "       [ 59.      , 108.669998],\n",
              "       [ 60.      , 107.470001],\n",
              "       [ 61.      , 107.110001],\n",
              "       [ 62.      , 103.459999],\n",
              "       [ 63.      , 110.      ],\n",
              "       [ 64.      , 114.220001],\n",
              "       [ 65.      , 117.5     ],\n",
              "       [ 66.      , 119.830002],\n",
              "       [ 67.      , 119.510002],\n",
              "       [ 68.      , 120.209999],\n",
              "       [ 69.      , 121.5     ],\n",
              "       [ 70.      , 118.660004],\n",
              "       [ 71.      , 120.900002],\n",
              "       [ 72.      , 121.349998],\n",
              "       [ 73.      , 117.089996],\n",
              "       [ 74.      , 110.389999],\n",
              "       [ 75.      , 110.370003],\n",
              "       [ 76.      , 112.160004],\n",
              "       [ 77.      , 109.510002],\n",
              "       [ 78.      , 106.150002],\n",
              "       [ 79.      , 108.459999],\n",
              "       [ 80.      , 105.400002],\n",
              "       [ 81.      , 105.010002],\n",
              "       [ 82.      , 109.93    ],\n",
              "       [ 83.      , 112.239998],\n",
              "       [ 84.      , 108.199997],\n",
              "       [ 85.      , 102.989998],\n",
              "       [ 86.      , 101.940002],\n",
              "       [ 87.      , 101.639999],\n",
              "       [ 88.      , 100.449997],\n",
              "       [ 89.      , 104.889999],\n",
              "       [ 90.      , 105.650002],\n",
              "       [ 91.      , 106.580002],\n",
              "       [ 92.      , 106.599998],\n",
              "       [ 93.      , 105.010002],\n",
              "       [ 94.      , 101.940002],\n",
              "       [ 95.      , 103.110001],\n",
              "       [ 96.      , 104.760002],\n",
              "       [ 97.      , 106.190002],\n",
              "       [ 98.      , 105.599998],\n",
              "       [ 99.      , 109.220001],\n",
              "       [100.      , 110.370003],\n",
              "       [101.      , 111.93    ],\n",
              "       [102.      , 109.610001],\n",
              "       [103.      , 107.480003],\n",
              "       [104.      , 106.300003],\n",
              "       [105.      , 109.43    ],\n",
              "       [106.      , 112.760002],\n",
              "       [107.      , 114.      ],\n",
              "       [108.      , 113.57    ],\n",
              "       [109.      , 113.419998],\n",
              "       [110.      , 114.639999],\n",
              "       [111.      , 112.790001],\n",
              "       [112.      , 114.      ],\n",
              "       [113.      , 111.32    ],\n",
              "       [114.      , 113.239998],\n",
              "       [115.      , 114.879997],\n",
              "       [116.      , 114.389999],\n",
              "       [117.      , 115.449997],\n",
              "       [118.      , 115.940002],\n",
              "       [119.      , 116.769997],\n",
              "       [120.      , 116.      ],\n",
              "       [121.      , 115.5     ],\n",
              "       [122.      , 111.019997],\n",
              "       [123.      , 110.839996],\n",
              "       [124.      , 110.68    ],\n",
              "       [125.      , 111.900002],\n",
              "       [126.      , 113.309998],\n",
              "       [127.      , 106.809998],\n",
              "       [128.      , 108.970001],\n",
              "       [129.      , 107.959999],\n",
              "       [130.      , 105.800003],\n",
              "       [131.      , 107.459999],\n",
              "       [132.      , 105.440002],\n",
              "       [133.      , 105.080002],\n",
              "       [134.      , 107.      ],\n",
              "       [135.      , 109.379997],\n",
              "       [136.      , 111.379997],\n",
              "       [137.      , 108.839996],\n",
              "       [138.      , 106.129997],\n",
              "       [139.      , 106.150002],\n",
              "       [140.      , 104.07    ],\n",
              "       [141.      , 103.690002],\n",
              "       [142.      , 103.82    ],\n",
              "       [143.      , 102.669998],\n",
              "       [144.      ,  99.790001],\n",
              "       [145.      ,  96.919998],\n",
              "       [146.      ,  96.089996],\n",
              "       [147.      ,  97.07    ],\n",
              "       [148.      ,  97.110001],\n",
              "       [149.      ,  98.110001],\n",
              "       [150.      ,  83.300003],\n",
              "       [151.      ,  83.129997],\n",
              "       [152.      ,  87.699997],\n",
              "       [153.      ,  87.489998],\n",
              "       [154.      ,  90.489998],\n",
              "       [155.      ,  88.540001],\n",
              "       [156.      ,  87.760002],\n",
              "       [157.      ,  86.040001],\n",
              "       [158.      ,  88.      ],\n",
              "       [159.      ,  86.389999],\n",
              "       [160.      ,  90.510002],\n",
              "       [161.      ,  89.529999],\n",
              "       [162.      ,  92.599998],\n",
              "       [163.      ,  88.260002],\n",
              "       [164.      ,  89.470001],\n",
              "       [165.      ,  87.019997],\n",
              "       [166.      ,  87.790001],\n",
              "       [167.      ,  88.029999],\n",
              "       [168.      ,  90.779999],\n",
              "       [169.      ,  92.879997],\n",
              "       [170.      ,  91.199997],\n",
              "       [171.      ,  93.      ],\n",
              "       [172.      ,  95.690002],\n",
              "       [173.      ,  93.129997],\n",
              "       [174.      ,  89.970001],\n",
              "       [175.      ,  94.449997],\n",
              "       [176.      ,  96.309998],\n",
              "       [177.      ,  94.440002],\n",
              "       [178.      ,  92.669998],\n",
              "       [179.      ,  96.330002],\n",
              "       [180.      , 100.309998],\n",
              "       [181.      , 105.199997],\n",
              "       [182.      , 107.989998],\n",
              "       [183.      , 105.25    ],\n",
              "       [184.      , 104.110001],\n",
              "       [185.      , 107.629997],\n",
              "       [186.      , 104.610001],\n",
              "       [187.      , 104.620003],\n",
              "       [188.      , 106.      ],\n",
              "       [189.      , 106.449997],\n",
              "       [190.      , 105.25    ],\n",
              "       [191.      , 105.370003],\n",
              "       [192.      , 107.080002],\n",
              "       [193.      , 110.089996],\n",
              "       [194.      , 108.650002],\n",
              "       [195.      , 111.019997],\n",
              "       [196.      , 109.650002],\n",
              "       [197.      , 107.32    ],\n",
              "       [198.      , 108.599998],\n",
              "       [199.      , 110.220001],\n",
              "       [200.      , 110.099998],\n",
              "       [201.      , 115.610001],\n",
              "       [202.      , 113.699997],\n",
              "       [203.      , 109.190002],\n",
              "       [204.      , 106.870003],\n",
              "       [205.      , 104.989998],\n",
              "       [206.      , 103.      ],\n",
              "       [207.      , 116.760002],\n",
              "       [208.      , 114.290001],\n",
              "       [209.      , 116.110001],\n",
              "       [210.      , 116.470001],\n",
              "       [211.      , 117.580002],\n",
              "       [212.      , 116.080002],\n",
              "       [213.      , 116.559998],\n",
              "       [214.      , 118.550003],\n",
              "       [215.      , 119.959999],\n",
              "       [216.      , 120.279999],\n",
              "       [217.      , 122.      ],\n",
              "       [218.      , 125.      ],\n",
              "       [219.      , 125.209999],\n",
              "       [220.      , 126.32    ],\n",
              "       [221.      , 128.350006],\n",
              "       [222.      , 126.660004],\n",
              "       [223.      , 128.      ],\n",
              "       [224.      , 127.800003],\n",
              "       [225.      , 124.790001],\n",
              "       [226.      , 124.68    ],\n",
              "       [227.      , 126.900002],\n",
              "       [228.      , 123.580002],\n",
              "       [229.      , 125.860001],\n",
              "       [230.      , 128.460007],\n",
              "       [231.      , 127.07    ],\n",
              "       [232.      , 126.5     ],\n",
              "       [233.      , 126.419998],\n",
              "       [234.      , 127.900002],\n",
              "       [235.      , 130.449997],\n",
              "       [236.      , 126.790001],\n",
              "       [237.      , 125.519997],\n",
              "       [238.      , 123.959999],\n",
              "       [239.      , 123.379997],\n",
              "       [240.      , 124.709999],\n",
              "       [241.      , 121.510002],\n",
              "       [242.      , 122.82    ],\n",
              "       [243.      , 123.949997],\n",
              "       [244.      , 124.900002],\n",
              "       [245.      , 125.43    ],\n",
              "       [246.      , 123.709999],\n",
              "       [247.      , 123.279999],\n",
              "       [248.      , 121.099998],\n",
              "       [249.      , 120.760002],\n",
              "       [250.      , 117.970001]])"
            ]
          },
          "metadata": {},
          "execution_count": 13
        }
      ]
    },
    {
      "cell_type": "code",
      "source": [
        "\n",
        "y = dataset.iloc[:, -1].values"
      ],
      "metadata": {
        "id": "WRrhHcQ3HAsV"
      },
      "execution_count": 14,
      "outputs": []
    },
    {
      "cell_type": "code",
      "source": [
        "\n",
        "\n",
        "\n",
        "\n",
        "\n",
        "\n",
        "\n",
        "\n",
        "\n",
        "y"
      ],
      "metadata": {
        "colab": {
          "base_uri": "https://localhost:8080/"
        },
        "id": "_x_Wprh7HFGj",
        "outputId": "12384514-7269-4e2c-cf64-dba2add5b380"
      },
      "execution_count": 18,
      "outputs": [
        {
          "output_type": "execute_result",
          "data": {
            "text/plain": [
              "array(['+', nan, nan, nan, nan, nan, nan, nan, nan, nan, nan, nan, nan,\n",
              "       nan, nan, nan, nan, nan, nan, nan, nan, nan, nan, nan, nan, nan,\n",
              "       nan, nan, nan, nan, nan, nan, nan, nan, nan, nan, nan, nan, nan,\n",
              "       nan, nan, nan, nan, nan, nan, nan, nan, nan, nan, nan, nan, nan,\n",
              "       nan, nan, nan, nan, nan, nan, nan, nan, nan, nan, nan, nan, nan,\n",
              "       nan, nan, nan, nan, nan, nan, nan, nan, nan, nan, nan, nan, nan,\n",
              "       nan, nan, nan, nan, nan, nan, nan, nan, nan, nan, nan, nan, nan,\n",
              "       nan, nan, nan, nan, nan, nan, nan, nan, nan, nan, nan, nan, nan,\n",
              "       nan, nan, nan, nan, nan, nan, nan, nan, nan, nan, nan, nan, nan,\n",
              "       nan, nan, nan, nan, nan, nan, nan, nan, nan, nan, nan, nan, nan,\n",
              "       nan, nan, nan, nan, nan, nan, nan, nan, nan, nan, nan, nan, nan,\n",
              "       nan, nan, nan, nan, nan, nan, nan, nan, nan, nan, nan, nan, nan,\n",
              "       nan, nan, nan, nan, nan, nan, nan, nan, nan, nan, nan, nan, nan,\n",
              "       nan, nan, nan, nan, nan, nan, nan, nan, nan, nan, nan, nan, nan,\n",
              "       nan, nan, nan, nan, nan, nan, nan, nan, nan, nan, nan, nan, nan,\n",
              "       nan, nan, nan, nan, nan, nan, nan, nan, nan, nan, nan, nan, nan,\n",
              "       nan, nan, nan, nan, nan, nan, nan, nan, nan, nan, nan, nan, nan,\n",
              "       nan, nan, nan, nan, nan, nan, nan, nan, nan, nan, nan, nan, nan,\n",
              "       nan, nan, nan, nan, nan, nan, nan, nan, nan, nan, nan, nan, nan,\n",
              "       nan, nan, nan], dtype=object)"
            ]
          },
          "metadata": {},
          "execution_count": 18
        }
      ]
    },
    {
      "cell_type": "code",
      "source": [
        "\n",
        "from sklearn.linear_model import LinearRegression\n",
        "regressor = LinearRegression()\n",
        "regressor.fit(x, y)"
      ],
      "metadata": {
        "colab": {
          "base_uri": "https://localhost:8080/",
          "height": 345
        },
        "id": "TP5se9CYHFwU",
        "outputId": "bab0ce7e-37ca-4f91-add7-35bd55c9c26f"
      },
      "execution_count": 17,
      "outputs": [
        {
          "output_type": "error",
          "ename": "ValueError",
          "evalue": "ignored",
          "traceback": [
            "\u001b[0;31m---------------------------------------------------------------------------\u001b[0m",
            "\u001b[0;31mValueError\u001b[0m                                Traceback (most recent call last)",
            "\u001b[0;32m<ipython-input-17-e921d056e7ed>\u001b[0m in \u001b[0;36m<module>\u001b[0;34m\u001b[0m\n\u001b[1;32m      1\u001b[0m \u001b[0;32mfrom\u001b[0m \u001b[0msklearn\u001b[0m\u001b[0;34m.\u001b[0m\u001b[0mlinear_model\u001b[0m \u001b[0;32mimport\u001b[0m \u001b[0mLinearRegression\u001b[0m\u001b[0;34m\u001b[0m\u001b[0;34m\u001b[0m\u001b[0m\n\u001b[1;32m      2\u001b[0m \u001b[0mregressor\u001b[0m \u001b[0;34m=\u001b[0m \u001b[0mLinearRegression\u001b[0m\u001b[0;34m(\u001b[0m\u001b[0;34m)\u001b[0m\u001b[0;34m\u001b[0m\u001b[0;34m\u001b[0m\u001b[0m\n\u001b[0;32m----> 3\u001b[0;31m \u001b[0mregressor\u001b[0m\u001b[0;34m.\u001b[0m\u001b[0mfit\u001b[0m\u001b[0;34m(\u001b[0m\u001b[0mx\u001b[0m\u001b[0;34m,\u001b[0m \u001b[0my\u001b[0m\u001b[0;34m)\u001b[0m\u001b[0;34m\u001b[0m\u001b[0;34m\u001b[0m\u001b[0m\n\u001b[0m",
            "\u001b[0;32m/usr/local/lib/python3.8/dist-packages/sklearn/linear_model/_base.py\u001b[0m in \u001b[0;36mfit\u001b[0;34m(self, X, y, sample_weight)\u001b[0m\n\u001b[1;32m    660\u001b[0m         \u001b[0maccept_sparse\u001b[0m \u001b[0;34m=\u001b[0m \u001b[0;32mFalse\u001b[0m \u001b[0;32mif\u001b[0m \u001b[0mself\u001b[0m\u001b[0;34m.\u001b[0m\u001b[0mpositive\u001b[0m \u001b[0;32melse\u001b[0m \u001b[0;34m[\u001b[0m\u001b[0;34m\"csr\"\u001b[0m\u001b[0;34m,\u001b[0m \u001b[0;34m\"csc\"\u001b[0m\u001b[0;34m,\u001b[0m \u001b[0;34m\"coo\"\u001b[0m\u001b[0;34m]\u001b[0m\u001b[0;34m\u001b[0m\u001b[0;34m\u001b[0m\u001b[0m\n\u001b[1;32m    661\u001b[0m \u001b[0;34m\u001b[0m\u001b[0m\n\u001b[0;32m--> 662\u001b[0;31m         X, y = self._validate_data(\n\u001b[0m\u001b[1;32m    663\u001b[0m             \u001b[0mX\u001b[0m\u001b[0;34m,\u001b[0m \u001b[0my\u001b[0m\u001b[0;34m,\u001b[0m \u001b[0maccept_sparse\u001b[0m\u001b[0;34m=\u001b[0m\u001b[0maccept_sparse\u001b[0m\u001b[0;34m,\u001b[0m \u001b[0my_numeric\u001b[0m\u001b[0;34m=\u001b[0m\u001b[0;32mTrue\u001b[0m\u001b[0;34m,\u001b[0m \u001b[0mmulti_output\u001b[0m\u001b[0;34m=\u001b[0m\u001b[0;32mTrue\u001b[0m\u001b[0;34m\u001b[0m\u001b[0;34m\u001b[0m\u001b[0m\n\u001b[1;32m    664\u001b[0m         )\n",
            "\u001b[0;32m/usr/local/lib/python3.8/dist-packages/sklearn/base.py\u001b[0m in \u001b[0;36m_validate_data\u001b[0;34m(self, X, y, reset, validate_separately, **check_params)\u001b[0m\n\u001b[1;32m    579\u001b[0m                 \u001b[0my\u001b[0m \u001b[0;34m=\u001b[0m \u001b[0mcheck_array\u001b[0m\u001b[0;34m(\u001b[0m\u001b[0my\u001b[0m\u001b[0;34m,\u001b[0m \u001b[0;34m**\u001b[0m\u001b[0mcheck_y_params\u001b[0m\u001b[0;34m)\u001b[0m\u001b[0;34m\u001b[0m\u001b[0;34m\u001b[0m\u001b[0m\n\u001b[1;32m    580\u001b[0m             \u001b[0;32melse\u001b[0m\u001b[0;34m:\u001b[0m\u001b[0;34m\u001b[0m\u001b[0;34m\u001b[0m\u001b[0m\n\u001b[0;32m--> 581\u001b[0;31m                 \u001b[0mX\u001b[0m\u001b[0;34m,\u001b[0m \u001b[0my\u001b[0m \u001b[0;34m=\u001b[0m \u001b[0mcheck_X_y\u001b[0m\u001b[0;34m(\u001b[0m\u001b[0mX\u001b[0m\u001b[0;34m,\u001b[0m \u001b[0my\u001b[0m\u001b[0;34m,\u001b[0m \u001b[0;34m**\u001b[0m\u001b[0mcheck_params\u001b[0m\u001b[0;34m)\u001b[0m\u001b[0;34m\u001b[0m\u001b[0;34m\u001b[0m\u001b[0m\n\u001b[0m\u001b[1;32m    582\u001b[0m             \u001b[0mout\u001b[0m \u001b[0;34m=\u001b[0m \u001b[0mX\u001b[0m\u001b[0;34m,\u001b[0m \u001b[0my\u001b[0m\u001b[0;34m\u001b[0m\u001b[0;34m\u001b[0m\u001b[0m\n\u001b[1;32m    583\u001b[0m \u001b[0;34m\u001b[0m\u001b[0m\n",
            "\u001b[0;32m/usr/local/lib/python3.8/dist-packages/sklearn/utils/validation.py\u001b[0m in \u001b[0;36mcheck_X_y\u001b[0;34m(X, y, accept_sparse, accept_large_sparse, dtype, order, copy, force_all_finite, ensure_2d, allow_nd, multi_output, ensure_min_samples, ensure_min_features, y_numeric, estimator)\u001b[0m\n\u001b[1;32m    977\u001b[0m     )\n\u001b[1;32m    978\u001b[0m \u001b[0;34m\u001b[0m\u001b[0m\n\u001b[0;32m--> 979\u001b[0;31m     \u001b[0my\u001b[0m \u001b[0;34m=\u001b[0m \u001b[0m_check_y\u001b[0m\u001b[0;34m(\u001b[0m\u001b[0my\u001b[0m\u001b[0;34m,\u001b[0m \u001b[0mmulti_output\u001b[0m\u001b[0;34m=\u001b[0m\u001b[0mmulti_output\u001b[0m\u001b[0;34m,\u001b[0m \u001b[0my_numeric\u001b[0m\u001b[0;34m=\u001b[0m\u001b[0my_numeric\u001b[0m\u001b[0;34m)\u001b[0m\u001b[0;34m\u001b[0m\u001b[0;34m\u001b[0m\u001b[0m\n\u001b[0m\u001b[1;32m    980\u001b[0m \u001b[0;34m\u001b[0m\u001b[0m\n\u001b[1;32m    981\u001b[0m     \u001b[0mcheck_consistent_length\u001b[0m\u001b[0;34m(\u001b[0m\u001b[0mX\u001b[0m\u001b[0;34m,\u001b[0m \u001b[0my\u001b[0m\u001b[0;34m)\u001b[0m\u001b[0;34m\u001b[0m\u001b[0;34m\u001b[0m\u001b[0m\n",
            "\u001b[0;32m/usr/local/lib/python3.8/dist-packages/sklearn/utils/validation.py\u001b[0m in \u001b[0;36m_check_y\u001b[0;34m(y, multi_output, y_numeric)\u001b[0m\n\u001b[1;32m    987\u001b[0m     \u001b[0;34m\"\"\"Isolated part of check_X_y dedicated to y validation\"\"\"\u001b[0m\u001b[0;34m\u001b[0m\u001b[0;34m\u001b[0m\u001b[0m\n\u001b[1;32m    988\u001b[0m     \u001b[0;32mif\u001b[0m \u001b[0mmulti_output\u001b[0m\u001b[0;34m:\u001b[0m\u001b[0;34m\u001b[0m\u001b[0;34m\u001b[0m\u001b[0m\n\u001b[0;32m--> 989\u001b[0;31m         y = check_array(\n\u001b[0m\u001b[1;32m    990\u001b[0m             \u001b[0my\u001b[0m\u001b[0;34m,\u001b[0m \u001b[0maccept_sparse\u001b[0m\u001b[0;34m=\u001b[0m\u001b[0;34m\"csr\"\u001b[0m\u001b[0;34m,\u001b[0m \u001b[0mforce_all_finite\u001b[0m\u001b[0;34m=\u001b[0m\u001b[0;32mTrue\u001b[0m\u001b[0;34m,\u001b[0m \u001b[0mensure_2d\u001b[0m\u001b[0;34m=\u001b[0m\u001b[0;32mFalse\u001b[0m\u001b[0;34m,\u001b[0m \u001b[0mdtype\u001b[0m\u001b[0;34m=\u001b[0m\u001b[0;32mNone\u001b[0m\u001b[0;34m\u001b[0m\u001b[0;34m\u001b[0m\u001b[0m\n\u001b[1;32m    991\u001b[0m         )\n",
            "\u001b[0;32m/usr/local/lib/python3.8/dist-packages/sklearn/utils/validation.py\u001b[0m in \u001b[0;36mcheck_array\u001b[0;34m(array, accept_sparse, accept_large_sparse, dtype, order, copy, force_all_finite, ensure_2d, allow_nd, ensure_min_samples, ensure_min_features, estimator)\u001b[0m\n\u001b[1;32m    798\u001b[0m \u001b[0;34m\u001b[0m\u001b[0m\n\u001b[1;32m    799\u001b[0m         \u001b[0;32mif\u001b[0m \u001b[0mforce_all_finite\u001b[0m\u001b[0;34m:\u001b[0m\u001b[0;34m\u001b[0m\u001b[0;34m\u001b[0m\u001b[0m\n\u001b[0;32m--> 800\u001b[0;31m             \u001b[0m_assert_all_finite\u001b[0m\u001b[0;34m(\u001b[0m\u001b[0marray\u001b[0m\u001b[0;34m,\u001b[0m \u001b[0mallow_nan\u001b[0m\u001b[0;34m=\u001b[0m\u001b[0mforce_all_finite\u001b[0m \u001b[0;34m==\u001b[0m \u001b[0;34m\"allow-nan\"\u001b[0m\u001b[0;34m)\u001b[0m\u001b[0;34m\u001b[0m\u001b[0;34m\u001b[0m\u001b[0m\n\u001b[0m\u001b[1;32m    801\u001b[0m \u001b[0;34m\u001b[0m\u001b[0m\n\u001b[1;32m    802\u001b[0m     \u001b[0;32mif\u001b[0m \u001b[0mensure_min_samples\u001b[0m \u001b[0;34m>\u001b[0m \u001b[0;36m0\u001b[0m\u001b[0;34m:\u001b[0m\u001b[0;34m\u001b[0m\u001b[0;34m\u001b[0m\u001b[0m\n",
            "\u001b[0;32m/usr/local/lib/python3.8/dist-packages/sklearn/utils/validation.py\u001b[0m in \u001b[0;36m_assert_all_finite\u001b[0;34m(X, allow_nan, msg_dtype)\u001b[0m\n\u001b[1;32m    120\u001b[0m     \u001b[0;32melif\u001b[0m \u001b[0mX\u001b[0m\u001b[0;34m.\u001b[0m\u001b[0mdtype\u001b[0m \u001b[0;34m==\u001b[0m \u001b[0mnp\u001b[0m\u001b[0;34m.\u001b[0m\u001b[0mdtype\u001b[0m\u001b[0;34m(\u001b[0m\u001b[0;34m\"object\"\u001b[0m\u001b[0;34m)\u001b[0m \u001b[0;32mand\u001b[0m \u001b[0;32mnot\u001b[0m \u001b[0mallow_nan\u001b[0m\u001b[0;34m:\u001b[0m\u001b[0;34m\u001b[0m\u001b[0;34m\u001b[0m\u001b[0m\n\u001b[1;32m    121\u001b[0m         \u001b[0;32mif\u001b[0m \u001b[0m_object_dtype_isnan\u001b[0m\u001b[0;34m(\u001b[0m\u001b[0mX\u001b[0m\u001b[0;34m)\u001b[0m\u001b[0;34m.\u001b[0m\u001b[0many\u001b[0m\u001b[0;34m(\u001b[0m\u001b[0;34m)\u001b[0m\u001b[0;34m:\u001b[0m\u001b[0;34m\u001b[0m\u001b[0;34m\u001b[0m\u001b[0m\n\u001b[0;32m--> 122\u001b[0;31m             \u001b[0;32mraise\u001b[0m \u001b[0mValueError\u001b[0m\u001b[0;34m(\u001b[0m\u001b[0;34m\"Input contains NaN\"\u001b[0m\u001b[0;34m)\u001b[0m\u001b[0;34m\u001b[0m\u001b[0;34m\u001b[0m\u001b[0m\n\u001b[0m\u001b[1;32m    123\u001b[0m \u001b[0;34m\u001b[0m\u001b[0m\n\u001b[1;32m    124\u001b[0m \u001b[0;34m\u001b[0m\u001b[0m\n",
            "\u001b[0;31mValueError\u001b[0m: Input contains NaN"
          ]
        }
      ]
    },
    {
      "cell_type": "code",
      "source": [
        "LinearRegression()\n"
      ],
      "metadata": {
        "colab": {
          "base_uri": "https://localhost:8080/"
        },
        "id": "jdcb0TR0HJaK",
        "outputId": "9137cdf8-8fa6-441c-8aac-c78c59befe6a"
      },
      "execution_count": 8,
      "outputs": [
        {
          "output_type": "execute_result",
          "data": {
            "text/plain": [
              "LinearRegression()"
            ]
          },
          "metadata": {},
          "execution_count": 8
        }
      ]
    },
    {
      "cell_type": "code",
      "source": [
        "y_pred = regressor.predict(x)\n"
      ],
      "metadata": {
        "colab": {
          "base_uri": "https://localhost:8080/",
          "height": 311
        },
        "id": "Ij_m-9WzHOJp",
        "outputId": "39d11da8-ad5d-43e6-8bb0-e3d4131fc4e4"
      },
      "execution_count": 16,
      "outputs": [
        {
          "output_type": "error",
          "ename": "NotFittedError",
          "evalue": "ignored",
          "traceback": [
            "\u001b[0;31m---------------------------------------------------------------------------\u001b[0m",
            "\u001b[0;31mNotFittedError\u001b[0m                            Traceback (most recent call last)",
            "\u001b[0;32m<ipython-input-16-f5a54a4689b3>\u001b[0m in \u001b[0;36m<module>\u001b[0;34m\u001b[0m\n\u001b[0;32m----> 1\u001b[0;31m \u001b[0my_pred\u001b[0m \u001b[0;34m=\u001b[0m \u001b[0mregressor\u001b[0m\u001b[0;34m.\u001b[0m\u001b[0mpredict\u001b[0m\u001b[0;34m(\u001b[0m\u001b[0mx\u001b[0m\u001b[0;34m)\u001b[0m\u001b[0;34m\u001b[0m\u001b[0;34m\u001b[0m\u001b[0m\n\u001b[0m",
            "\u001b[0;32m/usr/local/lib/python3.8/dist-packages/sklearn/linear_model/_base.py\u001b[0m in \u001b[0;36mpredict\u001b[0;34m(self, X)\u001b[0m\n\u001b[1;32m    360\u001b[0m             \u001b[0mReturns\u001b[0m \u001b[0mpredicted\u001b[0m \u001b[0mvalues\u001b[0m\u001b[0;34m.\u001b[0m\u001b[0;34m\u001b[0m\u001b[0;34m\u001b[0m\u001b[0m\n\u001b[1;32m    361\u001b[0m         \"\"\"\n\u001b[0;32m--> 362\u001b[0;31m         \u001b[0;32mreturn\u001b[0m \u001b[0mself\u001b[0m\u001b[0;34m.\u001b[0m\u001b[0m_decision_function\u001b[0m\u001b[0;34m(\u001b[0m\u001b[0mX\u001b[0m\u001b[0;34m)\u001b[0m\u001b[0;34m\u001b[0m\u001b[0;34m\u001b[0m\u001b[0m\n\u001b[0m\u001b[1;32m    363\u001b[0m \u001b[0;34m\u001b[0m\u001b[0m\n\u001b[1;32m    364\u001b[0m     \u001b[0m_preprocess_data\u001b[0m \u001b[0;34m=\u001b[0m \u001b[0mstaticmethod\u001b[0m\u001b[0;34m(\u001b[0m\u001b[0m_preprocess_data\u001b[0m\u001b[0;34m)\u001b[0m\u001b[0;34m\u001b[0m\u001b[0;34m\u001b[0m\u001b[0m\n",
            "\u001b[0;32m/usr/local/lib/python3.8/dist-packages/sklearn/linear_model/_base.py\u001b[0m in \u001b[0;36m_decision_function\u001b[0;34m(self, X)\u001b[0m\n\u001b[1;32m    341\u001b[0m \u001b[0;34m\u001b[0m\u001b[0m\n\u001b[1;32m    342\u001b[0m     \u001b[0;32mdef\u001b[0m \u001b[0m_decision_function\u001b[0m\u001b[0;34m(\u001b[0m\u001b[0mself\u001b[0m\u001b[0;34m,\u001b[0m \u001b[0mX\u001b[0m\u001b[0;34m)\u001b[0m\u001b[0;34m:\u001b[0m\u001b[0;34m\u001b[0m\u001b[0;34m\u001b[0m\u001b[0m\n\u001b[0;32m--> 343\u001b[0;31m         \u001b[0mcheck_is_fitted\u001b[0m\u001b[0;34m(\u001b[0m\u001b[0mself\u001b[0m\u001b[0;34m)\u001b[0m\u001b[0;34m\u001b[0m\u001b[0;34m\u001b[0m\u001b[0m\n\u001b[0m\u001b[1;32m    344\u001b[0m \u001b[0;34m\u001b[0m\u001b[0m\n\u001b[1;32m    345\u001b[0m         \u001b[0mX\u001b[0m \u001b[0;34m=\u001b[0m \u001b[0mself\u001b[0m\u001b[0;34m.\u001b[0m\u001b[0m_validate_data\u001b[0m\u001b[0;34m(\u001b[0m\u001b[0mX\u001b[0m\u001b[0;34m,\u001b[0m \u001b[0maccept_sparse\u001b[0m\u001b[0;34m=\u001b[0m\u001b[0;34m[\u001b[0m\u001b[0;34m\"csr\"\u001b[0m\u001b[0;34m,\u001b[0m \u001b[0;34m\"csc\"\u001b[0m\u001b[0;34m,\u001b[0m \u001b[0;34m\"coo\"\u001b[0m\u001b[0;34m]\u001b[0m\u001b[0;34m,\u001b[0m \u001b[0mreset\u001b[0m\u001b[0;34m=\u001b[0m\u001b[0;32mFalse\u001b[0m\u001b[0;34m)\u001b[0m\u001b[0;34m\u001b[0m\u001b[0;34m\u001b[0m\u001b[0m\n",
            "\u001b[0;32m/usr/local/lib/python3.8/dist-packages/sklearn/utils/validation.py\u001b[0m in \u001b[0;36mcheck_is_fitted\u001b[0;34m(estimator, attributes, msg, all_or_any)\u001b[0m\n\u001b[1;32m   1220\u001b[0m \u001b[0;34m\u001b[0m\u001b[0m\n\u001b[1;32m   1221\u001b[0m     \u001b[0;32mif\u001b[0m \u001b[0;32mnot\u001b[0m \u001b[0mfitted\u001b[0m\u001b[0;34m:\u001b[0m\u001b[0;34m\u001b[0m\u001b[0;34m\u001b[0m\u001b[0m\n\u001b[0;32m-> 1222\u001b[0;31m         \u001b[0;32mraise\u001b[0m \u001b[0mNotFittedError\u001b[0m\u001b[0;34m(\u001b[0m\u001b[0mmsg\u001b[0m \u001b[0;34m%\u001b[0m \u001b[0;34m{\u001b[0m\u001b[0;34m\"name\"\u001b[0m\u001b[0;34m:\u001b[0m \u001b[0mtype\u001b[0m\u001b[0;34m(\u001b[0m\u001b[0mestimator\u001b[0m\u001b[0;34m)\u001b[0m\u001b[0;34m.\u001b[0m\u001b[0m__name__\u001b[0m\u001b[0;34m}\u001b[0m\u001b[0;34m)\u001b[0m\u001b[0;34m\u001b[0m\u001b[0;34m\u001b[0m\u001b[0m\n\u001b[0m\u001b[1;32m   1223\u001b[0m \u001b[0;34m\u001b[0m\u001b[0m\n\u001b[1;32m   1224\u001b[0m \u001b[0;34m\u001b[0m\u001b[0m\n",
            "\u001b[0;31mNotFittedError\u001b[0m: This LinearRegression instance is not fitted yet. Call 'fit' with appropriate arguments before using this estimator."
          ]
        }
      ]
    },
    {
      "cell_type": "code",
      "source": [
        "\n",
        "import numpy as np\n",
        "import matplotlib.pyplot as plt\n",
        "import pandas as pd"
      ],
      "metadata": {
        "id": "sI0V-3zmHQ_y"
      },
      "execution_count": 29,
      "outputs": []
    },
    {
      "cell_type": "code",
      "source": [
        "dataset = pd.read_csv('/content/NKE (1).csv')"
      ],
      "metadata": {
        "id": "s_EI5evoPtjo"
      },
      "execution_count": 35,
      "outputs": []
    },
    {
      "cell_type": "code",
      "source": [
        "\n",
        "x = dataset.iloc[:, :-1].values"
      ],
      "metadata": {
        "id": "hvM_x9HCPyX1"
      },
      "execution_count": 36,
      "outputs": []
    },
    {
      "cell_type": "code",
      "source": [
        "x"
      ],
      "metadata": {
        "colab": {
          "base_uri": "https://localhost:8080/"
        },
        "id": "7lAIlzVxP1Kw",
        "outputId": "e8e93d4e-9a30-4545-bbbf-902e1ba022be"
      },
      "execution_count": 37,
      "outputs": [
        {
          "output_type": "execute_result",
          "data": {
            "text/plain": [
              "array([['2022-02-28', 137.059998, 138.380005, 135.039993, 136.550003,\n",
              "        135.098511],\n",
              "       ['2022-03-01', 136.720001, 136.75, 131.149994, 132.220001,\n",
              "        130.814529],\n",
              "       ['2022-03-02', 132.979996, 136.610001, 132.770004, 135.679993,\n",
              "        134.237732],\n",
              "       ...,\n",
              "       ['2023-02-22', 121.099998, 121.400002, 119.639999, 119.900002,\n",
              "        119.900002],\n",
              "       ['2023-02-23', 120.760002, 120.760002, 118.550003, 119.959999,\n",
              "        119.959999],\n",
              "       ['2023-02-24', 117.970001, 118.739998, 117.339996, 118.040001,\n",
              "        118.040001]], dtype=object)"
            ]
          },
          "metadata": {},
          "execution_count": 37
        }
      ]
    },
    {
      "cell_type": "code",
      "source": [
        "y = dataset.iloc[:, -1].values"
      ],
      "metadata": {
        "id": "pC6IDLEDP169"
      },
      "execution_count": 38,
      "outputs": []
    },
    {
      "cell_type": "code",
      "source": [
        "y"
      ],
      "metadata": {
        "colab": {
          "base_uri": "https://localhost:8080/"
        },
        "id": "zlrNwVF6P5q2",
        "outputId": "d43074d9-5c3b-456d-8e00-3ba64f76d9ff"
      },
      "execution_count": 39,
      "outputs": [
        {
          "output_type": "execute_result",
          "data": {
            "text/plain": [
              "array([ 6613300,  6534000,  7743900,  4576500,  7084500, 11383400,\n",
              "        9089400,  8845100,  7167400,  5882000, 13884900, 10431300,\n",
              "       11100400,  6845300, 10350900, 14388500, 19731200,  8068800,\n",
              "        5853800,  6287000,  5804100,  7275900,  5545800,  7206500,\n",
              "        5807500,  5307300,  5707800,  6961000,  5320500,  4877400,\n",
              "        6365400,  5146800,  5119300, 12811300,  5298200,  7346100,\n",
              "        5309700,  6562400,  7321700,  6512500,  7977900,  6007800,\n",
              "        6551600,  5867900,  5428400,  8201200,  6924000,  8411600,\n",
              "       11237500,  7506000,  7526900,  6611800, 10245400,  9618800,\n",
              "        5722500,  6026100,  8188300,  7702000,  7621900,  7136400,\n",
              "        6023400,  7158800,  6520300,  5043000, 13774600,  5543100,\n",
              "        5838100,  5201500,  3963400,  5373600,  4365800,  3892600,\n",
              "        6292600,  6423100,  4548400,  4828700,  7384800, 10256800,\n",
              "        6211400,  9884000,  8898400, 10463700, 12644700, 31296500,\n",
              "       10326600,  9027400,  7934300,  9948800,  6432900,  7633900,\n",
              "        5938600,  4935200,  6017400,  5299400,  6951300,  7862000,\n",
              "        6834800,  8973900,  5884600,  4291400,  6039300,  5079500,\n",
              "        8459500,  7437000,  6773500,  7560000,  4802900,  6334400,\n",
              "        5986500,  4332000,  4162200,  6071600,  7377600,  6951800,\n",
              "        5582100,  4407900,  4279000,  6189800,  5108400,  4750200,\n",
              "        5967600,  5802900,  4806700,  4769000,  5433700,  6203600,\n",
              "        4132400,  5129500,  8884800,  5590800,  7763800,  9158900,\n",
              "        7238300,  5628300,  5171500,  4836900,  5955600,  4888700,\n",
              "        6598900,  8000800,  5162300, 10006600,  6279300,  9638800,\n",
              "        9026500,  8521600,  9890300,  9423300, 19339200, 48176100,\n",
              "       19108200, 15114800, 12732700,  9951900,  8554700,  7991200,\n",
              "       11903200,  8772900,  9335000,  7811700,  8451900,  7364700,\n",
              "        5102000, 13500000,  7976300,  8847100,  8639900,  8648200,\n",
              "        8617900,  6022400,  6426400,  7250700,  7176600,  6550300,\n",
              "       12543300,  9094500,  7017800,  6550900,  9361000, 12597500,\n",
              "        7134900,  7242900,  5998700,  5252900,  5498900,  4774800,\n",
              "        5313200,  3873100,  3426100,  6967400,  8494400, 16251000,\n",
              "        7822900,  5892000,  6220100,  7086100,  5751500,  6192800,\n",
              "        5677700,  6426000,  8655300,  7528500,  7500700, 14083600,\n",
              "       10620300, 17147900, 32777300, 17147600,  6603700,  6661100,\n",
              "        5437800,  4588600,  4353100,  8124800,  8550700,  6046700,\n",
              "       10078500,  9397900,  5899900,  6989200,  8366400,  4854700,\n",
              "        6172200,  6828800,  5273500,  5664900,  5581600,  5486200,\n",
              "        5933700,  5838800,  5728900,  6494600,  7686900,  6387900,\n",
              "        5214500,  4929900,  4666400,  5288900,  5877800,  5929000,\n",
              "        5195000,  5689800,  4845900,  5689700,  4722200,  5161500,\n",
              "        5110300,  5022000,  4101900,  4692700])"
            ]
          },
          "metadata": {},
          "execution_count": 39
        }
      ]
    },
    {
      "cell_type": "code",
      "source": [
        "y"
      ],
      "metadata": {
        "colab": {
          "base_uri": "https://localhost:8080/"
        },
        "id": "J6j6JaTSP7QG",
        "outputId": "2ffa5c95-5dbb-4f73-da8d-ff1b0fc89228"
      },
      "execution_count": 40,
      "outputs": [
        {
          "output_type": "execute_result",
          "data": {
            "text/plain": [
              "array([ 6613300,  6534000,  7743900,  4576500,  7084500, 11383400,\n",
              "        9089400,  8845100,  7167400,  5882000, 13884900, 10431300,\n",
              "       11100400,  6845300, 10350900, 14388500, 19731200,  8068800,\n",
              "        5853800,  6287000,  5804100,  7275900,  5545800,  7206500,\n",
              "        5807500,  5307300,  5707800,  6961000,  5320500,  4877400,\n",
              "        6365400,  5146800,  5119300, 12811300,  5298200,  7346100,\n",
              "        5309700,  6562400,  7321700,  6512500,  7977900,  6007800,\n",
              "        6551600,  5867900,  5428400,  8201200,  6924000,  8411600,\n",
              "       11237500,  7506000,  7526900,  6611800, 10245400,  9618800,\n",
              "        5722500,  6026100,  8188300,  7702000,  7621900,  7136400,\n",
              "        6023400,  7158800,  6520300,  5043000, 13774600,  5543100,\n",
              "        5838100,  5201500,  3963400,  5373600,  4365800,  3892600,\n",
              "        6292600,  6423100,  4548400,  4828700,  7384800, 10256800,\n",
              "        6211400,  9884000,  8898400, 10463700, 12644700, 31296500,\n",
              "       10326600,  9027400,  7934300,  9948800,  6432900,  7633900,\n",
              "        5938600,  4935200,  6017400,  5299400,  6951300,  7862000,\n",
              "        6834800,  8973900,  5884600,  4291400,  6039300,  5079500,\n",
              "        8459500,  7437000,  6773500,  7560000,  4802900,  6334400,\n",
              "        5986500,  4332000,  4162200,  6071600,  7377600,  6951800,\n",
              "        5582100,  4407900,  4279000,  6189800,  5108400,  4750200,\n",
              "        5967600,  5802900,  4806700,  4769000,  5433700,  6203600,\n",
              "        4132400,  5129500,  8884800,  5590800,  7763800,  9158900,\n",
              "        7238300,  5628300,  5171500,  4836900,  5955600,  4888700,\n",
              "        6598900,  8000800,  5162300, 10006600,  6279300,  9638800,\n",
              "        9026500,  8521600,  9890300,  9423300, 19339200, 48176100,\n",
              "       19108200, 15114800, 12732700,  9951900,  8554700,  7991200,\n",
              "       11903200,  8772900,  9335000,  7811700,  8451900,  7364700,\n",
              "        5102000, 13500000,  7976300,  8847100,  8639900,  8648200,\n",
              "        8617900,  6022400,  6426400,  7250700,  7176600,  6550300,\n",
              "       12543300,  9094500,  7017800,  6550900,  9361000, 12597500,\n",
              "        7134900,  7242900,  5998700,  5252900,  5498900,  4774800,\n",
              "        5313200,  3873100,  3426100,  6967400,  8494400, 16251000,\n",
              "        7822900,  5892000,  6220100,  7086100,  5751500,  6192800,\n",
              "        5677700,  6426000,  8655300,  7528500,  7500700, 14083600,\n",
              "       10620300, 17147900, 32777300, 17147600,  6603700,  6661100,\n",
              "        5437800,  4588600,  4353100,  8124800,  8550700,  6046700,\n",
              "       10078500,  9397900,  5899900,  6989200,  8366400,  4854700,\n",
              "        6172200,  6828800,  5273500,  5664900,  5581600,  5486200,\n",
              "        5933700,  5838800,  5728900,  6494600,  7686900,  6387900,\n",
              "        5214500,  4929900,  4666400,  5288900,  5877800,  5929000,\n",
              "        5195000,  5689800,  4845900,  5689700,  4722200,  5161500,\n",
              "        5110300,  5022000,  4101900,  4692700])"
            ]
          },
          "metadata": {},
          "execution_count": 40
        }
      ]
    },
    {
      "cell_type": "code",
      "source": [
        "x_questionbank = dataset.iloc[0:200,0:1].values\n",
        "print(x_questionbank)"
      ],
      "metadata": {
        "colab": {
          "base_uri": "https://localhost:8080/"
        },
        "id": "LBRK6HIqSYIX",
        "outputId": "14c1387f-d9b7-4ae0-b30f-4ca9b3882486"
      },
      "execution_count": 44,
      "outputs": [
        {
          "output_type": "stream",
          "name": "stdout",
          "text": [
            "[['2022-02-28']\n",
            " ['2022-03-01']\n",
            " ['2022-03-02']\n",
            " ['2022-03-03']\n",
            " ['2022-03-04']\n",
            " ['2022-03-07']\n",
            " ['2022-03-08']\n",
            " ['2022-03-09']\n",
            " ['2022-03-10']\n",
            " ['2022-03-11']\n",
            " ['2022-03-14']\n",
            " ['2022-03-15']\n",
            " ['2022-03-16']\n",
            " ['2022-03-17']\n",
            " ['2022-03-18']\n",
            " ['2022-03-21']\n",
            " ['2022-03-22']\n",
            " ['2022-03-23']\n",
            " ['2022-03-24']\n",
            " ['2022-03-25']\n",
            " ['2022-03-28']\n",
            " ['2022-03-29']\n",
            " ['2022-03-30']\n",
            " ['2022-03-31']\n",
            " ['2022-04-01']\n",
            " ['2022-04-04']\n",
            " ['2022-04-05']\n",
            " ['2022-04-06']\n",
            " ['2022-04-07']\n",
            " ['2022-04-08']\n",
            " ['2022-04-11']\n",
            " ['2022-04-12']\n",
            " ['2022-04-13']\n",
            " ['2022-04-14']\n",
            " ['2022-04-18']\n",
            " ['2022-04-19']\n",
            " ['2022-04-20']\n",
            " ['2022-04-21']\n",
            " ['2022-04-22']\n",
            " ['2022-04-25']\n",
            " ['2022-04-26']\n",
            " ['2022-04-27']\n",
            " ['2022-04-28']\n",
            " ['2022-04-29']\n",
            " ['2022-05-02']\n",
            " ['2022-05-03']\n",
            " ['2022-05-04']\n",
            " ['2022-05-05']\n",
            " ['2022-05-06']\n",
            " ['2022-05-09']\n",
            " ['2022-05-10']\n",
            " ['2022-05-11']\n",
            " ['2022-05-12']\n",
            " ['2022-05-13']\n",
            " ['2022-05-16']\n",
            " ['2022-05-17']\n",
            " ['2022-05-18']\n",
            " ['2022-05-19']\n",
            " ['2022-05-20']\n",
            " ['2022-05-23']\n",
            " ['2022-05-24']\n",
            " ['2022-05-25']\n",
            " ['2022-05-26']\n",
            " ['2022-05-27']\n",
            " ['2022-05-31']\n",
            " ['2022-06-01']\n",
            " ['2022-06-02']\n",
            " ['2022-06-03']\n",
            " ['2022-06-06']\n",
            " ['2022-06-07']\n",
            " ['2022-06-08']\n",
            " ['2022-06-09']\n",
            " ['2022-06-10']\n",
            " ['2022-06-13']\n",
            " ['2022-06-14']\n",
            " ['2022-06-15']\n",
            " ['2022-06-16']\n",
            " ['2022-06-17']\n",
            " ['2022-06-21']\n",
            " ['2022-06-22']\n",
            " ['2022-06-23']\n",
            " ['2022-06-24']\n",
            " ['2022-06-27']\n",
            " ['2022-06-28']\n",
            " ['2022-06-29']\n",
            " ['2022-06-30']\n",
            " ['2022-07-01']\n",
            " ['2022-07-05']\n",
            " ['2022-07-06']\n",
            " ['2022-07-07']\n",
            " ['2022-07-08']\n",
            " ['2022-07-11']\n",
            " ['2022-07-12']\n",
            " ['2022-07-13']\n",
            " ['2022-07-14']\n",
            " ['2022-07-15']\n",
            " ['2022-07-18']\n",
            " ['2022-07-19']\n",
            " ['2022-07-20']\n",
            " ['2022-07-21']\n",
            " ['2022-07-22']\n",
            " ['2022-07-25']\n",
            " ['2022-07-26']\n",
            " ['2022-07-27']\n",
            " ['2022-07-28']\n",
            " ['2022-07-29']\n",
            " ['2022-08-01']\n",
            " ['2022-08-02']\n",
            " ['2022-08-03']\n",
            " ['2022-08-04']\n",
            " ['2022-08-05']\n",
            " ['2022-08-08']\n",
            " ['2022-08-09']\n",
            " ['2022-08-10']\n",
            " ['2022-08-11']\n",
            " ['2022-08-12']\n",
            " ['2022-08-15']\n",
            " ['2022-08-16']\n",
            " ['2022-08-17']\n",
            " ['2022-08-18']\n",
            " ['2022-08-19']\n",
            " ['2022-08-22']\n",
            " ['2022-08-23']\n",
            " ['2022-08-24']\n",
            " ['2022-08-25']\n",
            " ['2022-08-26']\n",
            " ['2022-08-29']\n",
            " ['2022-08-30']\n",
            " ['2022-08-31']\n",
            " ['2022-09-01']\n",
            " ['2022-09-02']\n",
            " ['2022-09-06']\n",
            " ['2022-09-07']\n",
            " ['2022-09-08']\n",
            " ['2022-09-09']\n",
            " ['2022-09-12']\n",
            " ['2022-09-13']\n",
            " ['2022-09-14']\n",
            " ['2022-09-15']\n",
            " ['2022-09-16']\n",
            " ['2022-09-19']\n",
            " ['2022-09-20']\n",
            " ['2022-09-21']\n",
            " ['2022-09-22']\n",
            " ['2022-09-23']\n",
            " ['2022-09-26']\n",
            " ['2022-09-27']\n",
            " ['2022-09-28']\n",
            " ['2022-09-29']\n",
            " ['2022-09-30']\n",
            " ['2022-10-03']\n",
            " ['2022-10-04']\n",
            " ['2022-10-05']\n",
            " ['2022-10-06']\n",
            " ['2022-10-07']\n",
            " ['2022-10-10']\n",
            " ['2022-10-11']\n",
            " ['2022-10-12']\n",
            " ['2022-10-13']\n",
            " ['2022-10-14']\n",
            " ['2022-10-17']\n",
            " ['2022-10-18']\n",
            " ['2022-10-19']\n",
            " ['2022-10-20']\n",
            " ['2022-10-21']\n",
            " ['2022-10-24']\n",
            " ['2022-10-25']\n",
            " ['2022-10-26']\n",
            " ['2022-10-27']\n",
            " ['2022-10-28']\n",
            " ['2022-10-31']\n",
            " ['2022-11-01']\n",
            " ['2022-11-02']\n",
            " ['2022-11-03']\n",
            " ['2022-11-04']\n",
            " ['2022-11-07']\n",
            " ['2022-11-08']\n",
            " ['2022-11-09']\n",
            " ['2022-11-10']\n",
            " ['2022-11-11']\n",
            " ['2022-11-14']\n",
            " ['2022-11-15']\n",
            " ['2022-11-16']\n",
            " ['2022-11-17']\n",
            " ['2022-11-18']\n",
            " ['2022-11-21']\n",
            " ['2022-11-22']\n",
            " ['2022-11-23']\n",
            " ['2022-11-25']\n",
            " ['2022-11-28']\n",
            " ['2022-11-29']\n",
            " ['2022-11-30']\n",
            " ['2022-12-01']\n",
            " ['2022-12-02']\n",
            " ['2022-12-05']\n",
            " ['2022-12-06']\n",
            " ['2022-12-07']\n",
            " ['2022-12-08']\n",
            " ['2022-12-09']\n",
            " ['2022-12-12']]\n"
          ]
        }
      ]
    },
    {
      "cell_type": "code",
      "source": [
        "x_test = dataset.iloc[200:249,0:1].values\n",
        "print(x_test)\n",
        "\n",
        "\n",
        "\n",
        "\n",
        "\n",
        "\n",
        "\n",
        "\n",
        "\n",
        "\n"
      ],
      "metadata": {
        "colab": {
          "base_uri": "https://localhost:8080/"
        },
        "id": "zzdSLYlWSdUm",
        "outputId": "7db7c78b-e337-40bc-deac-bbcab39d6db1"
      },
      "execution_count": 45,
      "outputs": [
        {
          "output_type": "stream",
          "name": "stdout",
          "text": [
            "[['2022-12-13']\n",
            " ['2022-12-14']\n",
            " ['2022-12-15']\n",
            " ['2022-12-16']\n",
            " ['2022-12-19']\n",
            " ['2022-12-20']\n",
            " ['2022-12-21']\n",
            " ['2022-12-22']\n",
            " ['2022-12-23']\n",
            " ['2022-12-27']\n",
            " ['2022-12-28']\n",
            " ['2022-12-29']\n",
            " ['2022-12-30']\n",
            " ['2023-01-03']\n",
            " ['2023-01-04']\n",
            " ['2023-01-05']\n",
            " ['2023-01-06']\n",
            " ['2023-01-09']\n",
            " ['2023-01-10']\n",
            " ['2023-01-11']\n",
            " ['2023-01-12']\n",
            " ['2023-01-13']\n",
            " ['2023-01-17']\n",
            " ['2023-01-18']\n",
            " ['2023-01-19']\n",
            " ['2023-01-20']\n",
            " ['2023-01-23']\n",
            " ['2023-01-24']\n",
            " ['2023-01-25']\n",
            " ['2023-01-26']\n",
            " ['2023-01-27']\n",
            " ['2023-01-30']\n",
            " ['2023-01-31']\n",
            " ['2023-02-01']\n",
            " ['2023-02-02']\n",
            " ['2023-02-03']\n",
            " ['2023-02-06']\n",
            " ['2023-02-07']\n",
            " ['2023-02-08']\n",
            " ['2023-02-09']\n",
            " ['2023-02-10']\n",
            " ['2023-02-13']\n",
            " ['2023-02-14']\n",
            " ['2023-02-15']\n",
            " ['2023-02-16']\n",
            " ['2023-02-17']\n",
            " ['2023-02-21']\n",
            " ['2023-02-22']\n",
            " ['2023-02-23']]\n"
          ]
        }
      ]
    },
    {
      "cell_type": "code",
      "source": [
        "y_test = dataset.iloc[200:249,0:1].values\n",
        "print(y_test)"
      ],
      "metadata": {
        "colab": {
          "base_uri": "https://localhost:8080/"
        },
        "id": "48FpX0IsSgIX",
        "outputId": "391d6d22-ed3c-4272-a0ec-d067d3a7ad29"
      },
      "execution_count": 46,
      "outputs": [
        {
          "output_type": "stream",
          "name": "stdout",
          "text": [
            "[['2022-12-13']\n",
            " ['2022-12-14']\n",
            " ['2022-12-15']\n",
            " ['2022-12-16']\n",
            " ['2022-12-19']\n",
            " ['2022-12-20']\n",
            " ['2022-12-21']\n",
            " ['2022-12-22']\n",
            " ['2022-12-23']\n",
            " ['2022-12-27']\n",
            " ['2022-12-28']\n",
            " ['2022-12-29']\n",
            " ['2022-12-30']\n",
            " ['2023-01-03']\n",
            " ['2023-01-04']\n",
            " ['2023-01-05']\n",
            " ['2023-01-06']\n",
            " ['2023-01-09']\n",
            " ['2023-01-10']\n",
            " ['2023-01-11']\n",
            " ['2023-01-12']\n",
            " ['2023-01-13']\n",
            " ['2023-01-17']\n",
            " ['2023-01-18']\n",
            " ['2023-01-19']\n",
            " ['2023-01-20']\n",
            " ['2023-01-23']\n",
            " ['2023-01-24']\n",
            " ['2023-01-25']\n",
            " ['2023-01-26']\n",
            " ['2023-01-27']\n",
            " ['2023-01-30']\n",
            " ['2023-01-31']\n",
            " ['2023-02-01']\n",
            " ['2023-02-02']\n",
            " ['2023-02-03']\n",
            " ['2023-02-06']\n",
            " ['2023-02-07']\n",
            " ['2023-02-08']\n",
            " ['2023-02-09']\n",
            " ['2023-02-10']\n",
            " ['2023-02-13']\n",
            " ['2023-02-14']\n",
            " ['2023-02-15']\n",
            " ['2023-02-16']\n",
            " ['2023-02-17']\n",
            " ['2023-02-21']\n",
            " ['2023-02-22']\n",
            " ['2023-02-23']]\n"
          ]
        }
      ]
    },
    {
      "cell_type": "code",
      "source": [],
      "metadata": {
        "id": "jaz_k0IDUQ9n"
      },
      "execution_count": null,
      "outputs": []
    }
  ]
}