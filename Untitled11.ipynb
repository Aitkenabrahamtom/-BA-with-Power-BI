{
  "nbformat": 4,
  "nbformat_minor": 0,
  "metadata": {
    "colab": {
      "provenance": [],
      "authorship_tag": "ABX9TyOjTjl6On3cYf1j6Y1VTd+o",
      "include_colab_link": true
    },
    "kernelspec": {
      "name": "python3",
      "display_name": "Python 3"
    },
    "language_info": {
      "name": "python"
    }
  },
  "cells": [
    {
      "cell_type": "markdown",
      "metadata": {
        "id": "view-in-github",
        "colab_type": "text"
      },
      "source": [
        "<a href=\"https://colab.research.google.com/github/Aitkenabrahamtom/-BA-with-Power-BI/blob/main/Untitled11.ipynb\" target=\"_parent\"><img src=\"https://colab.research.google.com/assets/colab-badge.svg\" alt=\"Open In Colab\"/></a>"
      ]
    },
    {
      "cell_type": "code",
      "execution_count": 2,
      "metadata": {
        "id": "kBh5LBKAwZsb"
      },
      "outputs": [],
      "source": [
        "x = [\"john\",\"mary\",\"david\",\"adam\"]"
      ]
    },
    {
      "cell_type": "code",
      "source": [
        "x[0]"
      ],
      "metadata": {
        "colab": {
          "base_uri": "https://localhost:8080/",
          "height": 35
        },
        "id": "0J9QZqYUw_qO",
        "outputId": "58b71926-3643-4361-e5b0-01cde32764c8"
      },
      "execution_count": 4,
      "outputs": [
        {
          "output_type": "execute_result",
          "data": {
            "text/plain": [
              "'john'"
            ],
            "application/vnd.google.colaboratory.intrinsic+json": {
              "type": "string"
            }
          },
          "metadata": {},
          "execution_count": 4
        }
      ]
    },
    {
      "cell_type": "code",
      "source": [
        "x[2]"
      ],
      "metadata": {
        "colab": {
          "base_uri": "https://localhost:8080/",
          "height": 35
        },
        "id": "0vOFZHN2xXbN",
        "outputId": "0809fc2c-b532-4dc4-cb77-6bf38e6d66c1"
      },
      "execution_count": 5,
      "outputs": [
        {
          "output_type": "execute_result",
          "data": {
            "text/plain": [
              "'david'"
            ],
            "application/vnd.google.colaboratory.intrinsic+json": {
              "type": "string"
            }
          },
          "metadata": {},
          "execution_count": 5
        }
      ]
    },
    {
      "cell_type": "code",
      "source": [
        "A=x[0:1]\n",
        "print(A)\n"
      ],
      "metadata": {
        "colab": {
          "base_uri": "https://localhost:8080/"
        },
        "id": "WYGguSQNx4cU",
        "outputId": "471ed627-2bf8-428a-dd71-b0381c5b4cea"
      },
      "execution_count": 7,
      "outputs": [
        {
          "output_type": "stream",
          "name": "stdout",
          "text": [
            "['john']\n"
          ]
        }
      ]
    },
    {
      "cell_type": "code",
      "source": [
        "x=[1,2,3,4,5,6,7,8,9,10]\n",
        "x[-3:]"
      ],
      "metadata": {
        "colab": {
          "base_uri": "https://localhost:8080/"
        },
        "id": "J3fNdeyNzbMX",
        "outputId": "1756443b-4b85-492e-ee97-f4223d7e6055"
      },
      "execution_count": 9,
      "outputs": [
        {
          "output_type": "execute_result",
          "data": {
            "text/plain": [
              "[8, 9, 10]"
            ]
          },
          "metadata": {},
          "execution_count": 9
        }
      ]
    },
    {
      "cell_type": "code",
      "source": [
        "x[:3]"
      ],
      "metadata": {
        "colab": {
          "base_uri": "https://localhost:8080/"
        },
        "id": "7LY0S5RXztXS",
        "outputId": "b9b6744d-d99a-450b-9f78-fac0400a1914"
      },
      "execution_count": 10,
      "outputs": [
        {
          "output_type": "execute_result",
          "data": {
            "text/plain": [
              "[1, 2, 3]"
            ]
          },
          "metadata": {},
          "execution_count": 10
        }
      ]
    },
    {
      "cell_type": "code",
      "source": [
        "x=[1,2,3,44,5,6,7,8,9,10]\n",
        "x[0]=2\n",
        "x"
      ],
      "metadata": {
        "colab": {
          "base_uri": "https://localhost:8080/"
        },
        "id": "ETcOVjlA0nWb",
        "outputId": "673fd730-04e0-49d0-d17e-a2bd1be408e4"
      },
      "execution_count": 13,
      "outputs": [
        {
          "output_type": "execute_result",
          "data": {
            "text/plain": [
              "[2, 2, 3, 44, 5, 6, 7, 8, 9, 10]"
            ]
          },
          "metadata": {},
          "execution_count": 13
        }
      ]
    },
    {
      "cell_type": "code",
      "source": [
        "x = [\"john\",\"mary\",\"david\",\"adam\"]\n",
        "x[2]=\"Aitken\"\n",
        "x"
      ],
      "metadata": {
        "colab": {
          "base_uri": "https://localhost:8080/"
        },
        "id": "jjJAZ6pf1Lt0",
        "outputId": "4f3c5941-ac1c-4415-c3fd-d40fa23edb2a"
      },
      "execution_count": 15,
      "outputs": [
        {
          "output_type": "execute_result",
          "data": {
            "text/plain": [
              "['john', 'mary', 'Aitken', 'adam']"
            ]
          },
          "metadata": {},
          "execution_count": 15
        }
      ]
    },
    {
      "cell_type": "code",
      "execution_count": null,
      "metadata": {
        "id": "zpoejGLt1vxR"
      },
      "outputs": [],
      "source": [
        "x=[3,6,9,12]\n",
        "x.append(69)\n",
        "a"
      ]
    },
    {
      "cell_type": "code",
      "source": [
        "x=0\n",
        "lst=[]\n",
        "while x<4:\n",
        "  y=input(\"input your name\")\n",
        "  lst.append(y)\n",
        "  x=x+1\n",
        "print(lst)\n",
        "\n"
      ],
      "metadata": {
        "colab": {
          "base_uri": "https://localhost:8080/"
        },
        "id": "nTcJWQxb3hC1",
        "outputId": "44f1c125-8e38-4170-c5c0-a65c7ebca3b6"
      },
      "execution_count": 21,
      "outputs": [
        {
          "output_type": "stream",
          "name": "stdout",
          "text": [
            "input your nameaitken\n",
            "input your namehyshm\n",
            "input your namefarzuun\n",
            "input your namejoeyy\n",
            "['aitken', 'hyshm', 'farzuun', 'joeyy']\n"
          ]
        }
      ]
    },
    {
      "cell_type": "code",
      "source": [
        "x = [\"john\",\"mary\",\"david\",\"adam\"]\n",
        "y = [\"x\",\"y\",\"z\"]\n",
        "x.extend(y)"
      ],
      "metadata": {
        "id": "MhcUdIhe-JMo"
      },
      "execution_count": 22,
      "outputs": []
    },
    {
      "cell_type": "code",
      "source": [
        "x  "
      ],
      "metadata": {
        "colab": {
          "base_uri": "https://localhost:8080/"
        },
        "id": "8hYHia9z-Pbr",
        "outputId": "9c905fb5-ecb7-4b49-8442-326ff5696943"
      },
      "execution_count": 23,
      "outputs": [
        {
          "output_type": "execute_result",
          "data": {
            "text/plain": [
              "['john', 'mary', 'david', 'adam', 'x', 'y', 'z']"
            ]
          },
          "metadata": {},
          "execution_count": 23
        }
      ]
    },
    {
      "cell_type": "code",
      "source": [
        "x=[\"abc\",5,7,9,10,5,22]\n",
        "x.count(5)"
      ],
      "metadata": {
        "colab": {
          "base_uri": "https://localhost:8080/"
        },
        "id": "Shakp4Tg-qR3",
        "outputId": "75903c3f-8e2d-450a-b519-7815809bc21f"
      },
      "execution_count": 27,
      "outputs": [
        {
          "output_type": "execute_result",
          "data": {
            "text/plain": [
              "2"
            ]
          },
          "metadata": {},
          "execution_count": 27
        }
      ]
    },
    {
      "cell_type": "code",
      "source": [
        "x =[\"john\",\"mary\",\"david\",\"adam\"]\n",
        "x[1:3]=[\"mathew\",\"james\"]\n",
        "print(x)"
      ],
      "metadata": {
        "colab": {
          "base_uri": "https://localhost:8080/"
        },
        "id": "MAz605NM_SEH",
        "outputId": "467d71f8-cbc1-469f-b309-a2d943ff9d9f"
      },
      "execution_count": 29,
      "outputs": [
        {
          "output_type": "stream",
          "name": "stdout",
          "text": [
            "['john', 'mathew', 'james', 'adam']\n"
          ]
        }
      ]
    },
    {
      "cell_type": "code",
      "source": [
        "x = [\"johnatham\",\"maryam\",\"davidini\",\"adamas\"]\n",
        "x.insert(2,\"jameser\")\n",
        "print(x)"
      ],
      "metadata": {
        "colab": {
          "base_uri": "https://localhost:8080/"
        },
        "id": "UwbYZr_EAzsy",
        "outputId": "ec2b5b45-81f0-4791-fb7f-f2cdd7ac137f"
      },
      "execution_count": 31,
      "outputs": [
        {
          "output_type": "stream",
          "name": "stdout",
          "text": [
            "['johnatham', 'maryam', 'jameser', 'davidini', 'adamas']\n"
          ]
        }
      ]
    },
    {
      "cell_type": "code",
      "source": [
        "x = [\"johnatham\",\"maryam\",\"davidini\",\"adamas\"]\n",
        "x.remove(\"johnatham\")\n",
        "print(x)"
      ],
      "metadata": {
        "colab": {
          "base_uri": "https://localhost:8080/"
        },
        "id": "hb6BgoH-BqUt",
        "outputId": "e926a8cb-8a93-45e0-cf49-edb16a6d6a92"
      },
      "execution_count": 32,
      "outputs": [
        {
          "output_type": "stream",
          "name": "stdout",
          "text": [
            "['maryam', 'davidini', 'adamas']\n"
          ]
        }
      ]
    },
    {
      "cell_type": "code",
      "source": [
        "x = [\"johnatham\",\"maryam\",\"davidini\",\"adamas\"]\n",
        "del x[0]\n",
        "print(x)"
      ],
      "metadata": {
        "colab": {
          "base_uri": "https://localhost:8080/"
        },
        "id": "8FHyd_jfCSGm",
        "outputId": "b8800c6e-c05f-44cf-a99a-1f543f82f04f"
      },
      "execution_count": 33,
      "outputs": [
        {
          "output_type": "stream",
          "name": "stdout",
          "text": [
            "['maryam', 'davidini', 'adamas']\n"
          ]
        }
      ]
    },
    {
      "cell_type": "code",
      "source": [
        "x = [\"johnatham\",\"maryam\",\"davidini\",\"adamas\"]\n",
        "del x[-1]\n",
        "print(x)"
      ],
      "metadata": {
        "colab": {
          "base_uri": "https://localhost:8080/"
        },
        "id": "9ahBMF7XDB1z",
        "outputId": "77b75c1f-772d-4ac9-bc38-38242f49e0b6"
      },
      "execution_count": 34,
      "outputs": [
        {
          "output_type": "stream",
          "name": "stdout",
          "text": [
            "['johnatham', 'maryam', 'davidini']\n"
          ]
        }
      ]
    },
    {
      "cell_type": "code",
      "source": [
        "x = [\"johnatham\",\"maryam\",\"davidini\",\"adamas\"]\n",
        "del x[0:2]\n",
        "print(x)"
      ],
      "metadata": {
        "colab": {
          "base_uri": "https://localhost:8080/"
        },
        "id": "jaet_D2wDI0S",
        "outputId": "3ca5baff-621b-4caf-a021-ead316b1a093"
      },
      "execution_count": 35,
      "outputs": [
        {
          "output_type": "stream",
          "name": "stdout",
          "text": [
            "['davidini', 'adamas']\n"
          ]
        }
      ]
    },
    {
      "cell_type": "code",
      "source": [],
      "metadata": {
        "id": "vD7Pe708DyuC"
      },
      "execution_count": null,
      "outputs": []
    }
  ]
}